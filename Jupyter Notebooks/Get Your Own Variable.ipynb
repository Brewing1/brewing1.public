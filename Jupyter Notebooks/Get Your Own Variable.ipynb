{
 "cells": [
  {
   "cell_type": "markdown",
   "metadata": {
    "deletable": true,
    "editable": true
   },
   "source": [
    "# Get Your Own Variable"
   ]
  },
  {
   "cell_type": "markdown",
   "metadata": {
    "deletable": true,
    "editable": true
   },
   "source": [
    "In the article \"The Starting Point\", we proved that we can change the 'base' of a logistic cumulative distribution function (LCDF), and still get back a standard LCDF. Remember, a standard (base $e$) LCDF with mean $0$ looks like this:"
   ]
  },
  {
   "cell_type": "markdown",
   "metadata": {
    "deletable": true,
    "editable": true
   },
   "source": [
    "$$F(x;s) = \\frac{1}{1+e^{-(\\frac{x}{s})}}$$"
   ]
  },
  {
   "cell_type": "markdown",
   "metadata": {
    "deletable": true,
    "editable": true
   },
   "source": [
    "We also posed whether we could use any value of $s$ in an ELO scheme which uses a LCDF. The reason we may be able to, is that we can shrink/expand the spread of the ELO ratings in the competition, since the ratings are updated each match using the formula:"
   ]
  },
  {
   "cell_type": "markdown",
   "metadata": {
    "deletable": true,
    "editable": true
   },
   "source": [
    "$$ ELO_{new} = ELO_{old} + k(actual\\_result - expected\\_result) $$"
   ]
  },
  {
   "cell_type": "markdown",
   "metadata": {
    "deletable": true,
    "editable": true
   },
   "source": [
    "where $k$ is a positive real number, $expected\\_result$ is given by our LCDF, and $actual\\_result$ is a number in $(0,1)$ and is independent of the value of $k$. So by varying the value of $k$, we should be able to create the desired spread between teams (we don't want them all squashed between 1450 and 1550 or spread between -1500 and 4500)."
   ]
  },
  {
   "cell_type": "markdown",
   "metadata": {
    "deletable": true,
    "editable": true
   },
   "source": [
    "To prove that we can use any value of $s$, we will compare two different ELO setups. One will have a fixed value of $s$ and $k$. With the other one, we will fix the value of $s$, and see if we can come up with a value of $k$ that predicts the same outcome for every match as the first setup. If we can do this, then we can make our $s$ whatever we want, provided we change $k$ accordingly. Let's do this:"
   ]
  },
  {
   "cell_type": "markdown",
   "metadata": {
    "deletable": true,
    "editable": true
   },
   "source": [
    "Let $X$ be an ELO schema with:"
   ]
  },
  {
   "cell_type": "markdown",
   "metadata": {
    "deletable": true,
    "editable": true
   },
   "source": [
    "$$win\\_prob(x^n) = \\frac{1}{1+10^{-\\frac{x^n}{s_1}}}$$"
   ]
  },
  {
   "cell_type": "markdown",
   "metadata": {
    "deletable": true,
    "editable": true
   },
   "source": [
    "where $n$ represents the $nth$ game of a tournament, $x$ represents the difference in ELO ratings between the two teams competing in game $n$, and $s_1$ is a fixed positive real number. We will call the teams competing in game $n$ team $A$ and team $B$. Note that teams $A$ and $B$ competing in match $3$ could be different teams to $A$ and $B$ competing in match $2$. We denote each team's ELO rating in the $nth$ game $A_X^n$ and $B_X^n$. \n",
    "\n",
    "$A_X^n$ is given by:"
   ]
  },
  {
   "cell_type": "markdown",
   "metadata": {
    "deletable": true,
    "editable": true
   },
   "source": [
    "$$A_X^n = A_X^{n-1} + k(result_A^{n-1} - expected_{A_X}^{n-1})$$"
   ]
  },
  {
   "cell_type": "markdown",
   "metadata": {
    "deletable": true,
    "editable": true
   },
   "source": [
    "where $k$ is a fixed real positive number, $result_A^{n-1}$ is the result of team $A$ in the $(n-1)th$ round, and $expected_{A_X}^{n-1}$ is the win\\_prob of team $A$ in the $(n-1)th$ round under the $X$ schema.\n",
    "\n",
    "Similarly, for $B_X^n$ we have:"
   ]
  },
  {
   "cell_type": "markdown",
   "metadata": {
    "deletable": true,
    "editable": true
   },
   "source": [
    "$$B_X^n = B_X^{n-1} + k(result_B^{n-1} - expected_{B_X}^{n-1}).$$"
   ]
  },
  {
   "cell_type": "markdown",
   "metadata": {
    "deletable": true,
    "editable": true
   },
   "source": [
    "Now, Let $Y$ be an ELO schema with"
   ]
  },
  {
   "cell_type": "markdown",
   "metadata": {
    "deletable": true,
    "editable": true
   },
   "source": [
    "$$win\\_prob(y^n) = \\frac{1}{1+10^{-\\frac{y^n}{s_2}}}$$"
   ]
  },
  {
   "cell_type": "markdown",
   "metadata": {
    "deletable": true,
    "editable": true
   },
   "source": [
    " for a fixed positive real number $s_2$. Like the $X$ schema, we also have"
   ]
  },
  {
   "cell_type": "markdown",
   "metadata": {
    "deletable": true,
    "editable": true
   },
   "source": [
    "$$A_Y^n = A_Y^{n-1} + p(result_A^{n-1} - expected_{A_Y}^{n-1})$$\n",
    "$$B_Y^n = B_Y^{n-1} + p(result_B^{n-1} - expected_{B_Y}^{n-1}).$$"
   ]
  },
  {
   "cell_type": "markdown",
   "metadata": {
    "deletable": true,
    "editable": true
   },
   "source": [
    "We aim to prove by mathematical induction that there exists a real positive number $p$ such that "
   ]
  },
  {
   "cell_type": "markdown",
   "metadata": {
    "deletable": true,
    "editable": true
   },
   "source": [
    "$$win\\_prob(y^n) = \\frac{1}{1+10^{-\\frac{y^n}{s_2}}} = win\\_prob(x^n) = \\frac{1}{1+10^{-\\frac{x^n}{s_1}}}$$"
   ]
  },
  {
   "cell_type": "markdown",
   "metadata": {
    "deletable": true,
    "editable": true
   },
   "source": [
    "for all positive integers $n$. In particular, we aim to prove that"
   ]
  },
  {
   "cell_type": "markdown",
   "metadata": {
    "deletable": true,
    "editable": true
   },
   "source": [
    "$$p=\\frac{s_2k}{s_1}$$"
   ]
  },
  {
   "cell_type": "markdown",
   "metadata": {
    "deletable": true,
    "editable": true
   },
   "source": [
    "does the job. Note that because of symmetry, it is sufficient to prove that"
   ]
  },
  {
   "cell_type": "markdown",
   "metadata": {
    "deletable": true,
    "editable": true
   },
   "source": [
    "$$\\frac{y^n}{s_2} = \\frac{x^n}{s_1}$$"
   ]
  },
  {
   "cell_type": "markdown",
   "metadata": {
    "deletable": true,
    "editable": true
   },
   "source": [
    "for all positive integers $n$. We could also run this proof with a base other than $10$ in the LCDF but we showed in the document \"Does chess have it right\" that we don't need to. In this proof we could just replace $s_2$ with $s_2\\log_{10}b$ where $b$ is the base we want to use."
   ]
  },
  {
   "cell_type": "markdown",
   "metadata": {
    "deletable": true,
    "editable": true
   },
   "source": [
    "The proof centres around one condition - we need the intial ELO ratings of each team in each schema to be comparable. In particular, we need "
   ]
  },
  {
   "cell_type": "markdown",
   "metadata": {
    "deletable": true,
    "editable": true
   },
   "source": [
    "$$A_Y^1 - B_Y^1 = \\frac{s_2(A_X^1-B_X^1)}{s_1}.$$"
   ]
  },
  {
   "cell_type": "markdown",
   "metadata": {
    "deletable": true,
    "editable": true
   },
   "source": [
    "For most implementations of ELO, teams will start with the same value, and so $A_Y^1-B_Y^1=0=A_X^1-B_X^1$. This makes our job easy. But there may be cases when teams begin with different ratings, or a new team/player is entered, and this proof caters for that posibility."
   ]
  },
  {
   "cell_type": "markdown",
   "metadata": {
    "deletable": true,
    "editable": true
   },
   "source": [
    "First we test when $n=1$;"
   ]
  },
  {
   "cell_type": "markdown",
   "metadata": {
    "deletable": true,
    "editable": true
   },
   "source": [
    "$$\\frac{y^1}{s_2} = \\frac{A_Y^1-B_Y^1}{s_2} = \\frac{s_2(A_X^1-B_X^1)}{s_1s_2} = \\frac{A_X^1-B_X^1}{s_1} = \\frac{x^1}{s_1}$$"
   ]
  },
  {
   "cell_type": "markdown",
   "metadata": {
    "deletable": true,
    "editable": true
   },
   "source": [
    "and so $win\\_prob(y^1) = win\\_prob(x^1)$. Now we assume true for $n=m$. That is, "
   ]
  },
  {
   "cell_type": "markdown",
   "metadata": {
    "deletable": true,
    "editable": true
   },
   "source": [
    "$$p=\\frac{s_2k}{s_1} \\implies win\\_prob(y^m) = win\\_prob(x^m)$$"
   ]
  },
  {
   "cell_type": "markdown",
   "metadata": {
    "deletable": true,
    "editable": true
   },
   "source": [
    "This leads us to the condition that $\\frac{A_Y^m-B_Y^m}{s_2}=\\frac{A_X^m-B_X^m}{s_1}$, and thus $A_Y^m-B_Y^m=\\frac{s_2(A_X^m-B_X^m)}{s_1}$"
   ]
  },
  {
   "cell_type": "markdown",
   "metadata": {
    "deletable": true,
    "editable": true
   },
   "source": [
    "Now test $n=m+1$;"
   ]
  },
  {
   "cell_type": "markdown",
   "metadata": {
    "deletable": true,
    "editable": true
   },
   "source": [
    "\\begin{align}\n",
    "\\frac{y^{m+1}}{s_2} &= \\frac{A_Y^{m+1}-B_Y^{m+1}}{s_2} \\\\\n",
    "&= \\frac{A_Y^m+p(result_A^m-expected_{A_Y}^m)-(B_Y^m+p(result_B^m-expected_{B_Y}^m))}{s_2} \\\\\n",
    "&= \\frac{A_Y^m-B_Y^m+p(result_A^m-result_B^m+expected_{B_Y}^m-expected_{A_Y}^m)}{s_2} \\\\\n",
    "\\end{align}"
   ]
  },
  {
   "cell_type": "markdown",
   "metadata": {
    "collapsed": true,
    "deletable": true,
    "editable": true
   },
   "source": [
    "Since $p=\\frac{s_2k}{s_1} \\implies win\\_prob(y^m) = win\\_prob(x^m)$, we have that $expected_{B_Y}^m-expected_{A_Y}^m=expected_{B_X}^m-expected_{A_X}^m$, as well as $A_Y^m-B_Y^m=\\frac{s_2(A_X^m-B_X^m)}{s_1}$. Thus,"
   ]
  },
  {
   "cell_type": "markdown",
   "metadata": {
    "deletable": true,
    "editable": true
   },
   "source": [
    "\\begin{align}\n",
    "\\frac{y^{m+1}}{s_2} &= \\frac{\\frac{s_2(A_X^m-B_X^m)}{s_1} + \\frac{s_2k}{s_1}(result_A^m-result_B^m+expected_{B_X}^m-expected_{A_X}^m)}{s_2} \\\\\n",
    "&= \\frac{A_X^m-B_X^m+k(result_A^m-result_B^m+expected_{B_X}^m-expected_{A_X}^m)}{s_1} \\\\\n",
    "&= \\frac{A_X^m+k(result_A^m-expected_{A_X}^m)-(B_X^m+k(result_B^m-expected_{B_X}^m))}{s_1} \\\\\n",
    "&= \\frac{A_X^{m+1}-B_X^{m+1}}{s_1} \\\\\n",
    "&= \\frac{x^{m+1}}{s_1}\n",
    "\\end{align}"
   ]
  },
  {
   "cell_type": "markdown",
   "metadata": {
    "deletable": true,
    "editable": true
   },
   "source": [
    "and thus $win\\_prob(y^{m+1}) = win\\_prob(x^{m+1})$. So by the process of mathematical induction, we have proved that for fixed $s_1$,$s_2$,$k$,"
   ]
  },
  {
   "cell_type": "markdown",
   "metadata": {
    "deletable": true,
    "editable": true
   },
   "source": [
    "$$p=\\frac{s_2k}{s_1} \\implies win\\_prob(y^n) = \\frac{1}{1+10^{-\\frac{y^n}{s_2}}} = win\\_prob(x^n) = \\frac{1}{1+10^{-\\frac{x^n}{s_1}}}$$"
   ]
  },
  {
   "cell_type": "markdown",
   "metadata": {
    "deletable": true,
    "editable": true
   },
   "source": [
    "for all positive integers $n$."
   ]
  },
  {
   "cell_type": "markdown",
   "metadata": {
    "deletable": true,
    "editable": true
   },
   "source": [
    "So it's true! We can choose any value of $s$ that we'd like. But what value should we choose for a given sport? And what base should we choose?\n",
    "See the next blog to find out. "
   ]
  },
  {
   "cell_type": "code",
   "execution_count": null,
   "metadata": {
    "collapsed": true,
    "deletable": true,
    "editable": true
   },
   "outputs": [],
   "source": []
  }
 ],
 "metadata": {
  "kernelspec": {
   "display_name": "Python 2",
   "language": "python",
   "name": "python2"
  },
  "language_info": {
   "codemirror_mode": {
    "name": "ipython",
    "version": 2
   },
   "file_extension": ".py",
   "mimetype": "text/x-python",
   "name": "python",
   "nbconvert_exporter": "python",
   "pygments_lexer": "ipython2",
   "version": "2.7.13"
  }
 },
 "nbformat": 4,
 "nbformat_minor": 2
}
